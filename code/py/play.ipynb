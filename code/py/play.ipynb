{
 "cells": [
  {
   "cell_type": "code",
   "execution_count": 7,
   "metadata": {
    "collapsed": true
   },
   "outputs": [],
   "source": [
    "from datetime import datetime, timedelta\n",
    "import v20\n",
    "import numpy as np\n",
    "import math\n",
    "import time"
   ]
  },
  {
   "cell_type": "code",
   "execution_count": 8,
   "metadata": {
    "collapsed": false
   },
   "outputs": [],
   "source": [
    "def getCandles(api, fromTime, toTime):\n",
    "\n",
    "    response = api.instrument.candles(instrument = \"AUD_USD\"\n",
    "                                     , granularity = \"M1\"\n",
    "                                     , fromTime = fromTime\n",
    "                                     , toTime = toTime\n",
    "                                     , smooth = True\n",
    "                                    )\n",
    "\n",
    "    candles = response.get(\"candles\", 200)\n",
    "    \n",
    "    return np.array([(x.mid.o + x.mid.c +x.mid.h + x.mid.l) / 4 for x in candles])"
   ]
  },
  {
   "cell_type": "code",
   "execution_count": 9,
   "metadata": {
    "collapsed": false
   },
   "outputs": [],
   "source": [
    "def compareAvgs(price_mid_array, prop_pos):\n",
    "    \n",
    "    len_all = len(price_mid_array)\n",
    "    len_pos = math.ceil(len_all * .3)\n",
    "    len_pre = len_all - len_pos\n",
    "\n",
    "    avg_pre = np.mean(price_mid_array[:len_pre])\n",
    "    avg_pos = np.mean(price_mid_array[len_pre:])\n",
    "\n",
    "    return avg_pos - avg_pre"
   ]
  },
  {
   "cell_type": "code",
   "execution_count": 10,
   "metadata": {
    "collapsed": false
   },
   "outputs": [],
   "source": [
    "# token and account_id\n",
    "with open(\"../../../global/token_demo.txt\") as T:\n",
    "    token = T.read().strip()\n",
    "with open(\"../../../global/account_demo.txt\") as T:\n",
    "    account = T.read().strip()\n",
    "\n",
    "# start time\n",
    "curTime = datetime.utcnow()\n",
    "# stop time\n",
    "stopTime = datetime.utcnow() + timedelta(hours = 2)\n",
    "\n",
    "# candle history time frame\n",
    "fromTime = datetime.utcnow() - timedelta(hours = 1) # 1 hour of history (with time interval 1 min)\n",
    "fromTime = fromTime.isoformat('T') + 'Z'\n",
    "toTime = datetime.utcnow().isoformat('T') + 'Z'\n",
    "\n",
    "# post period proportion\n",
    "prop_pos = .2\n",
    "\n",
    "api = v20.Context(hostname = \"api-fxpractice.oanda.com\"\n",
    "                 , token = token)"
   ]
  },
  {
   "cell_type": "code",
   "execution_count": null,
   "metadata": {
    "collapsed": false
   },
   "outputs": [
    {
     "name": "stdout",
     "output_type": "stream",
     "text": [
      "Start Time: 2017-03-13 08:24:14.751212\n"
     ]
    }
   ],
   "source": [
    "################################ execution ################################\n",
    "\n",
    "while curTime <= stopTime:\n",
    "    print(\"Start Time: {}\".format(curTime))\n",
    "    # sleep\n",
    "    time.sleep(5 * 60)\n",
    "    \n",
    "    # me\n",
    "    me = api.account.summary(account).get(\"account\")\n",
    "\n",
    "    # connect api\n",
    "    api = v20.Context(hostname = \"api-fxpractice.oanda.com\", token = token)\n",
    "    \n",
    "    # get candles\n",
    "    price_mid_array = getCandles(api, fromTime, toTime)\n",
    "    \n",
    "    # price difference between pre and post periods\n",
    "    price_diff = compareAvgs(price_mid_array, prop_pos)\n",
    "    \n",
    "    # last price\n",
    "    price_last = price_mid_array[len(price_mid_array) - 1]\n",
    "    \n",
    "    # buy/sell units\n",
    "    units = math.ceil(me.balance * .001 / price_last)\n",
    "    \n",
    "    # simple strategy\n",
    "    if price_diff > 0:\n",
    "        response = api.order.market(accountID = account\n",
    "                                    , instrument = \"AUD_USD\"\n",
    "                                    , type = \"sell\"\n",
    "                                    , units = units)\n",
    "\n",
    "        print(\"Sell Order {} at ${} for {} units\".format(response.reason, price_last, units))\n",
    "\n",
    "    elif price_diff < 0:\n",
    "        response = api.order.market(accountID = account\n",
    "                                    , instrument = \"AUD_USD\"\n",
    "                                    , side = \"buy\"\n",
    "                                    , units = units)\n",
    "\n",
    "        print(\"Sell Order {} at ${} for {} units\".format(response.reason, price_last, units))\n",
    "    \n",
    "    # update curTime\n",
    "    curTime = datetime.utcnow()"
   ]
  }
 ],
 "metadata": {
  "kernelspec": {
   "display_name": "Python 3",
   "language": "python",
   "name": "python3"
  },
  "language_info": {
   "codemirror_mode": {
    "name": "ipython",
    "version": 3
   },
   "file_extension": ".py",
   "mimetype": "text/x-python",
   "name": "python",
   "nbconvert_exporter": "python",
   "pygments_lexer": "ipython3",
   "version": "3.6.0"
  }
 },
 "nbformat": 4,
 "nbformat_minor": 2
}
