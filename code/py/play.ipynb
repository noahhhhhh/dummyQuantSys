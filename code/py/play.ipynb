{
 "cells": [
  {
   "cell_type": "code",
   "execution_count": 314,
   "metadata": {
    "collapsed": true
   },
   "outputs": [],
   "source": [
    "from datetime import datetime, timedelta\n",
    "import v20\n",
    "import numpy as np\n",
    "import math\n",
    "import time"
   ]
  },
  {
   "cell_type": "code",
   "execution_count": 315,
   "metadata": {
    "collapsed": false
   },
   "outputs": [],
   "source": [
    "def getCandles(api, fromTime, toTime):\n",
    "\n",
    "    response = api.instrument.candles(instrument = \"AUD_USD\"\n",
    "                                     , granularity = \"M1\"\n",
    "                                     , fromTime = fromTime\n",
    "                                     , toTime = toTime\n",
    "                                     , smooth = True\n",
    "                                    )\n",
    "\n",
    "    candles = response.get(\"candles\", 200)\n",
    "    \n",
    "    return np.array([(x.mid.o + x.mid.c +x.mid.h + x.mid.l) / 4 for x in candles])"
   ]
  },
  {
   "cell_type": "code",
   "execution_count": 316,
   "metadata": {
    "collapsed": false
   },
   "outputs": [],
   "source": [
    "def compareAvgs(price_mid_array, prop_pos):\n",
    "    \n",
    "    len_all = len(price_mid_array)\n",
    "    len_pos = math.ceil(len_all * .3)\n",
    "    len_pre = len_all - len_pos\n",
    "\n",
    "    avg_pre = np.mean(price_mid_array[:len_pre])\n",
    "    avg_pos = np.mean(price_mid_array[len_pre:])\n",
    "\n",
    "    return avg_pos - avg_pre"
   ]
  },
  {
   "cell_type": "code",
   "execution_count": null,
   "metadata": {
    "collapsed": true
   },
   "outputs": [],
   "source": [
    "response = api.instrument.candles(instrument = \"AUD_USD\"\n",
    "                                     , granularity = \"M1\"\n",
    "                                     , fromTime = fromTime\n",
    "                                     , toTime = toTime\n",
    "                                     , smooth = True\n",
    "                                    )\n",
    "\n",
    "candles = response.get(\"candles\", 200)"
   ]
  },
  {
   "cell_type": "code",
   "execution_count": null,
   "metadata": {
    "collapsed": false
   },
   "outputs": [
    {
     "name": "stdout",
     "output_type": "stream",
     "text": [
      "Start Time: 2017-03-13 06:45:21.271438\n",
      "Sell Order Bad Request at $0.757645 for 132 units\n",
      "Start Time: 2017-03-13 06:50:23.467410\n",
      "Sell Order Bad Request at $0.757645 for 132 units\n",
      "Start Time: 2017-03-13 06:55:25.542337\n",
      "Sell Order Bad Request at $0.757645 for 132 units\n",
      "Start Time: 2017-03-13 07:00:27.724374\n",
      "Sell Order Bad Request at $0.757645 for 132 units\n",
      "Start Time: 2017-03-13 07:05:29.559542\n",
      "Sell Order Bad Request at $0.757645 for 132 units\n",
      "Start Time: 2017-03-13 07:10:31.621902\n",
      "Sell Order Bad Request at $0.757645 for 132 units\n",
      "Start Time: 2017-03-13 07:15:33.658816\n",
      "Sell Order Bad Request at $0.757645 for 132 units\n",
      "Start Time: 2017-03-13 07:20:36.642489\n",
      "Sell Order Bad Request at $0.757645 for 132 units\n",
      "Start Time: 2017-03-13 07:25:38.830973\n",
      "Sell Order Bad Request at $0.757645 for 132 units\n",
      "Start Time: 2017-03-13 07:30:40.906320\n",
      "Sell Order Bad Request at $0.757645 for 132 units\n",
      "Start Time: 2017-03-13 07:35:42.858569\n",
      "Sell Order Bad Request at $0.757645 for 132 units\n",
      "Start Time: 2017-03-13 07:40:44.935831\n",
      "Sell Order Bad Request at $0.757645 for 132 units\n",
      "Start Time: 2017-03-13 07:45:46.965990\n",
      "Sell Order Bad Request at $0.757645 for 132 units\n",
      "Start Time: 2017-03-13 07:50:48.571059\n",
      "Sell Order Bad Request at $0.757645 for 132 units\n",
      "Start Time: 2017-03-13 07:55:51.531517\n",
      "Sell Order Bad Request at $0.757645 for 132 units\n",
      "Start Time: 2017-03-13 08:00:53.802438\n",
      "Sell Order Bad Request at $0.757645 for 132 units\n",
      "Start Time: 2017-03-13 08:05:55.630644\n",
      "Sell Order Bad Request at $0.757645 for 132 units\n",
      "Start Time: 2017-03-13 08:10:57.522517\n",
      "Sell Order Bad Request at $0.757645 for 132 units\n",
      "Start Time: 2017-03-13 08:15:59.652965\n"
     ]
    }
   ],
   "source": [
    "# token and account_id\n",
    "with open(\"../../../global/token_demo.txt\") as T:\n",
    "    token = T.read().strip()\n",
    "with open(\"../../../global/account_demo.txt\") as T:\n",
    "    account = T.read().strip()\n",
    "\n",
    "# start time\n",
    "curTime = datetime.utcnow()\n",
    "# stop time\n",
    "stopTime = datetime.utcnow() + timedelta(hours = 2)\n",
    "\n",
    "# candle history time frame\n",
    "fromTime = datetime.utcnow() - timedelta(hours = 1) # 1 hour of history (with time interval 1 min)\n",
    "fromTime = fromTime.isoformat('T') + 'Z'\n",
    "toTime = datetime.utcnow().isoformat('T') + 'Z'\n",
    "\n",
    "# post period proportion\n",
    "prop_pos = .2\n",
    "\n",
    "################################ execution ################################\n",
    "\n",
    "while curTime <= stopTime:\n",
    "    print(\"Start Time: {}\".format(curTime))\n",
    "    # sleep\n",
    "    time.sleep(5 * 60)\n",
    "    \n",
    "    # me\n",
    "    me = api.account.summary(account).get(\"account\")\n",
    "\n",
    "    # connect api\n",
    "    api = v20.Context(hostname = \"api-fxpractice.oanda.com\", token = token)\n",
    "    \n",
    "    # get candles\n",
    "    price_mid_array = getCandles(api, fromTime, toTime)\n",
    "    \n",
    "    # price difference between pre and post periods\n",
    "    price_diff = compareAvgs(price_mid_array, prop_pos)\n",
    "    \n",
    "    # last price\n",
    "    price_last = price_mid_array[len(price_mid_array) - 1]\n",
    "    \n",
    "    # buy/sell units\n",
    "    units = math.ceil(me.balance * .001 / price_last)\n",
    "    \n",
    "    # simple strategy\n",
    "    if price_diff > 0:\n",
    "        response = api.order.market(accountID = account\n",
    "                                    , instrument = \"AUD_USD\"\n",
    "                                    , type = \"sell\"\n",
    "                                    , units = units)\n",
    "\n",
    "        print(\"Sell Order {} at ${} for {} units\".format(response.reason, price_last, units))\n",
    "\n",
    "    elif price_diff < 0:\n",
    "        response = api.order.market(accountID = account\n",
    "                                    , instrument = \"AUD_USD\"\n",
    "                                    , side = \"buy\"\n",
    "                                    , units = units)\n",
    "\n",
    "        print(\"Sell Order {} at ${} for {} units\".format(response.reason, price_last, units))\n",
    "    \n",
    "    # update curTime\n",
    "    curTime = datetime.utcnow()"
   ]
  }
 ],
 "metadata": {
  "kernelspec": {
   "display_name": "Python 3",
   "language": "python",
   "name": "python3"
  },
  "language_info": {
   "codemirror_mode": {
    "name": "ipython",
    "version": 3
   },
   "file_extension": ".py",
   "mimetype": "text/x-python",
   "name": "python",
   "nbconvert_exporter": "python",
   "pygments_lexer": "ipython3",
   "version": "3.6.0"
  }
 },
 "nbformat": 4,
 "nbformat_minor": 2
}
